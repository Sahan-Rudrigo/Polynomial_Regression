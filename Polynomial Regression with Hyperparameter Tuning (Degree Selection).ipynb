{
 "cells": [
  {
   "cell_type": "code",
   "execution_count": 1,
   "id": "a47aeea0-8924-4079-823f-964f2f65004b",
   "metadata": {},
   "outputs": [],
   "source": [
    "import numpy as np\n",
    "import pandas as pd\n",
    "from sklearn.linear_model import LinearRegression\n",
    "from sklearn.preprocessing import PolynomialFeatures\n",
    "from sklearn.metrics import r2_score"
   ]
  },
  {
   "cell_type": "code",
   "execution_count": 2,
   "id": "5b9fcb26-5d81-42db-b1c1-f930a89c4b4e",
   "metadata": {},
   "outputs": [],
   "source": [
    "# Load dataset\n",
    "dataset = pd.read_csv('w2_position_salaries-220925-153437.csv')\n",
    "X = dataset[['Level']]  # Make sure it's a 2D array\n",
    "y = dataset['Salary']\n"
   ]
  },
  {
   "cell_type": "code",
   "execution_count": 3,
   "id": "408c08ba-d9dd-4f97-ad56-0bfc1d2d280f",
   "metadata": {},
   "outputs": [],
   "source": [
    "# Try polynomial degrees from 1 to 10\n",
    "best_degree = 0\n",
    "best_score = -1\n",
    "best_model = None"
   ]
  },
  {
   "cell_type": "code",
   "execution_count": 6,
   "id": "bfaa5cca-1d41-45d1-babf-f5ec2f1adfd1",
   "metadata": {},
   "outputs": [],
   "source": [
    "for degree in range(1, 11):\n",
    "    poly_features = PolynomialFeatures(degree=degree)\n",
    "    X_poly = poly_features.fit_transform(X)\n",
    "    \n",
    "    model = LinearRegression()\n",
    "    model.fit(X_poly, y)\n",
    "    y_pred = model.predict(X_poly)\n",
    "    score = r2_score(y, y_pred)\n",
    "\n",
    "    if score > best_score:\n",
    "        best_score = score\n",
    "        best_degree = degree\n",
    "        best_model = model"
   ]
  },
  {
   "cell_type": "code",
   "execution_count": 5,
   "id": "aefc81f4-ecac-431d-a3c2-95393b2644ad",
   "metadata": {},
   "outputs": [
    {
     "name": "stdout",
     "output_type": "stream",
     "text": [
      "\n",
      "✅ Best degree: 10 with R² score: 1.0000\n"
     ]
    }
   ],
   "source": [
    "\n",
    "print(f\"\\n✅ Best degree: {best_degree} with R² score: {best_score:.4f}\")"
   ]
  },
  {
   "cell_type": "code",
   "execution_count": null,
   "id": "5ec8046b-5982-4377-92e7-b37c48a07690",
   "metadata": {},
   "outputs": [],
   "source": []
  }
 ],
 "metadata": {
  "kernelspec": {
   "display_name": "Python 3 (ipykernel)",
   "language": "python",
   "name": "python3"
  },
  "language_info": {
   "codemirror_mode": {
    "name": "ipython",
    "version": 3
   },
   "file_extension": ".py",
   "mimetype": "text/x-python",
   "name": "python",
   "nbconvert_exporter": "python",
   "pygments_lexer": "ipython3",
   "version": "3.12.3"
  }
 },
 "nbformat": 4,
 "nbformat_minor": 5
}
