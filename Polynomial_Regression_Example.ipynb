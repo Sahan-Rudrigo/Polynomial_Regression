{
 "cells": [
  {
   "cell_type": "markdown",
   "id": "074f27fd-ee95-4b9c-9c6c-af3c6d367323",
   "metadata": {},
   "source": [
    "### Load the dataset"
   ]
  },
  {
   "cell_type": "code",
   "execution_count": 51,
   "id": "42f29b88-0b99-4947-a1f9-6215fb737103",
   "metadata": {},
   "outputs": [
    {
     "data": {
      "text/html": [
       "<div>\n",
       "<style scoped>\n",
       "    .dataframe tbody tr th:only-of-type {\n",
       "        vertical-align: middle;\n",
       "    }\n",
       "\n",
       "    .dataframe tbody tr th {\n",
       "        vertical-align: top;\n",
       "    }\n",
       "\n",
       "    .dataframe thead th {\n",
       "        text-align: right;\n",
       "    }\n",
       "</style>\n",
       "<table border=\"1\" class=\"dataframe\">\n",
       "  <thead>\n",
       "    <tr style=\"text-align: right;\">\n",
       "      <th></th>\n",
       "      <th>Position</th>\n",
       "      <th>Level</th>\n",
       "      <th>Salary</th>\n",
       "    </tr>\n",
       "  </thead>\n",
       "  <tbody>\n",
       "    <tr>\n",
       "      <th>0</th>\n",
       "      <td>Business Analyst</td>\n",
       "      <td>1</td>\n",
       "      <td>45000</td>\n",
       "    </tr>\n",
       "    <tr>\n",
       "      <th>1</th>\n",
       "      <td>Junior Consultant</td>\n",
       "      <td>2</td>\n",
       "      <td>50000</td>\n",
       "    </tr>\n",
       "    <tr>\n",
       "      <th>2</th>\n",
       "      <td>Senior Consultant</td>\n",
       "      <td>3</td>\n",
       "      <td>60000</td>\n",
       "    </tr>\n",
       "    <tr>\n",
       "      <th>3</th>\n",
       "      <td>Manager</td>\n",
       "      <td>4</td>\n",
       "      <td>80000</td>\n",
       "    </tr>\n",
       "    <tr>\n",
       "      <th>4</th>\n",
       "      <td>Country Manager</td>\n",
       "      <td>5</td>\n",
       "      <td>110000</td>\n",
       "    </tr>\n",
       "  </tbody>\n",
       "</table>\n",
       "</div>"
      ],
      "text/plain": [
       "            Position  Level  Salary\n",
       "0   Business Analyst      1   45000\n",
       "1  Junior Consultant      2   50000\n",
       "2  Senior Consultant      3   60000\n",
       "3            Manager      4   80000\n",
       "4    Country Manager      5  110000"
      ]
     },
     "execution_count": 51,
     "metadata": {},
     "output_type": "execute_result"
    }
   ],
   "source": [
    "import pandas as pd\n",
    "import numpy as np\n",
    "\n",
    "\n",
    "df = pd.read_csv('w2_position_salaries-220925-153437.csv')\n",
    "df.head()"
   ]
  },
  {
   "cell_type": "code",
   "execution_count": 52,
   "id": "83f9117d-319e-43fa-8e2f-c5512f864ceb",
   "metadata": {},
   "outputs": [
    {
     "data": {
      "text/plain": [
       "(10, 3)"
      ]
     },
     "execution_count": 52,
     "metadata": {},
     "output_type": "execute_result"
    }
   ],
   "source": [
    "df.shape"
   ]
  },
  {
   "cell_type": "markdown",
   "id": "00ff0ada-972d-4d21-b730-53408ef040aa",
   "metadata": {},
   "source": [
    "### Extract Input (X) and Output (y)"
   ]
  },
  {
   "cell_type": "code",
   "execution_count": 53,
   "id": "a79ae6a9-8b57-4369-8f7d-850a00f127e4",
   "metadata": {},
   "outputs": [],
   "source": [
    "x = df['Level'].values\n",
    "y = df[['Salary']].values"
   ]
  },
  {
   "cell_type": "markdown",
   "id": "f4c7fe25-6141-49f0-9cf5-acf009ec877f",
   "metadata": {},
   "source": [
    "### Train Simple Linear Regression"
   ]
  },
  {
   "cell_type": "code",
   "execution_count": 59,
   "id": "78f1bc2a-9de5-43fa-8a97-ce6ebe0f2eac",
   "metadata": {},
   "outputs": [],
   "source": [
    "from sklearn.linear_model import LinearRegression\n",
    "from sklearn.metrics import r2_score\n",
    "x = x.reshape(-1, 1)  # This creates a (1000, 1) array\n",
    "y = y.reshape(-1, 1)  # Similarly for y\n",
    "lin_reg = LinearRegression()\n",
    "lin_reg.fit(x, y)\n",
    "y_pred_lin = lin_reg.predict(x)\n",
    "r2_lin = r2_score(y, y_pred_lin)"
   ]
  },
  {
   "cell_type": "code",
   "execution_count": 61,
   "id": "c0525938-32e2-4e32-aca0-6d88eaa7a677",
   "metadata": {},
   "outputs": [
    {
     "name": "stdout",
     "output_type": "stream",
     "text": [
      "R2 Score (Linear Regression):0.6690\n"
     ]
    }
   ],
   "source": [
    "y_pred_lin = lin_reg.predict(x)\n",
    "print(f\"R2 Score (Linear Regression):{r2_lin:.4f}\")"
   ]
  },
  {
   "cell_type": "markdown",
   "id": "eb6b7051-5ecd-4a23-8882-80d68ec6f8f8",
   "metadata": {},
   "source": [
    "### Train Polynomial Regressions\n",
    "\n",
    "#### Degree 2"
   ]
  },
  {
   "cell_type": "code",
   "execution_count": 68,
   "id": "d0b6600a-c617-4f37-8801-50f161939596",
   "metadata": {},
   "outputs": [
    {
     "name": "stdout",
     "output_type": "stream",
     "text": [
      "R2 Score for Polynomial Regression (degree 2): 0.9162082221443943\n"
     ]
    }
   ],
   "source": [
    "from sklearn.preprocessing import PolynomialFeatures\n",
    "\n",
    "poly_reg2 = PolynomialFeatures(degree=2)\n",
    "x_poly2 = poly_reg2.fit_transform(x)\n",
    "\n",
    "lin_reg2 =  LinearRegression()\n",
    "lin_reg2.fit(x_poly2,y)\n",
    "y_pred_poly2 = lin_reg2.predict(x_poly2)\n",
    "r2_poly_2 = r2_score(y, y_pred_poly2)\n",
    "print(\"R2 Score for Polynomial Regression (degree 2):\", r2_poly_2)"
   ]
  },
  {
   "cell_type": "markdown",
   "id": "93ae489d-1c4a-4947-bd0c-2f1f1c4df3de",
   "metadata": {},
   "source": [
    "#### Degree 3"
   ]
  },
  {
   "cell_type": "code",
   "execution_count": 67,
   "id": "0d599f9c-9a19-4f15-a9e8-5e2eab31df89",
   "metadata": {},
   "outputs": [
    {
     "name": "stdout",
     "output_type": "stream",
     "text": [
      "R2 Score for Polynomial Regression (degree 3): 0.9812097727913366\n"
     ]
    }
   ],
   "source": [
    "poly_reg3 = PolynomialFeatures(degree = 3)\n",
    "x_poly3 = poly_reg3.fit_transform(x)\n",
    "\n",
    "lin_reg3 = LinearRegression()\n",
    "lin_reg3.fit(x_poly3,y)\n",
    "y_pred_poly3 = lin_reg3.predict(x_poly3)\n",
    "r2_poly_3 = r2_score(y, y_pred_poly3)\n",
    "print(\"R2 Score for Polynomial Regression (degree 3):\", r2_poly_3)"
   ]
  },
  {
   "cell_type": "markdown",
   "id": "639d1e03-6c02-4c59-86c3-9f5947e591e0",
   "metadata": {},
   "source": [
    "#### degree 4"
   ]
  },
  {
   "cell_type": "code",
   "execution_count": 71,
   "id": "0f213aca-4994-4e1f-9df3-bd1bf3ef0af8",
   "metadata": {},
   "outputs": [
    {
     "name": "stdout",
     "output_type": "stream",
     "text": [
      "R2 Score for Polynomial Regression (degree 4): 0.9973922891706614\n"
     ]
    }
   ],
   "source": [
    "poly_reg4 = PolynomialFeatures(degree = 4)\n",
    "x_poly4 = poly_reg4.fit_transform(x)\n",
    "\n",
    "lin_reg4 = LinearRegression()\n",
    "lin_reg4.fit(x_poly4,y)\n",
    "y_pred_poly4 = lin_reg4.predict(x_poly4)\n",
    "r2_poly_4= r2_score(y,y_pred_poly4)\n",
    "print(\"R2 Score for Polynomial Regression (degree 4):\", r2_poly_4)"
   ]
  },
  {
   "cell_type": "code",
   "execution_count": 74,
   "id": "fb741161-9b08-48be-b484-d390cb075e47",
   "metadata": {},
   "outputs": [
    {
     "data": {
      "image/png": "[encoded data removed]",
      "text/plain": [
       "<Figure size 640x480 with 1 Axes>"
      ]
     },
     "metadata": {},
     "output_type": "display_data"
    }
   ],
   "source": [
    "import matplotlib.pyplot as plt\n",
    "\n",
    "# Scatter\n",
    "plt.scatter(x, y, color='red', label='Original')\n",
    "\n",
    "# Linear\n",
    "plt.plot(x, y_pred_lin, color='blue', label='Linear')\n",
    "\n",
    "# Polynomial Degree 2\n",
    "plt.plot(x, y_pred_poly2, color='green', label='Poly 2')\n",
    "\n",
    "# Polynomial Degree 3\n",
    "plt.plot(x, y_pred_poly3, color='black', label='Poly 3')\n",
    "\n",
    "# Polynomial Degree 4\n",
    "plt.plot(x, y_pred_poly4, color='purple', label='Poly 4')\n",
    "\n",
    "plt.title('Regression Models')\n",
    "plt.xlabel('Level')\n",
    "plt.ylabel('Salary')\n",
    "plt.legend()\n",
    "plt.show()\n"
   ]
  },
  {
   "cell_type": "code",
   "execution_count": null,
   "id": "9f44649b-6e86-4fc0-a914-5439b3c6570a",
   "metadata": {},
   "outputs": [],
   "source": []
  }
 ],
 "metadata": {
  "kernelspec": {
   "display_name": "Python 3 (ipykernel)",
   "language": "python",
   "name": "python3"
  },
  "language_info": {
   "codemirror_mode": {
    "name": "ipython",
    "version": 3
   },
   "file_extension": ".py",
   "mimetype": "text/x-python",
   "name": "python",
   "nbconvert_exporter": "python",
   "pygments_lexer": "ipython3",
   "version": "3.12.3"
  }
 },
 "nbformat": 4,
 "nbformat_minor": 5
}
